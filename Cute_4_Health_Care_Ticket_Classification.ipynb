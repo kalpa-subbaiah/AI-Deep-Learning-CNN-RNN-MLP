{
 "cells": [
  {
   "cell_type": "markdown",
   "metadata": {},
   "source": [
    "#### Load  the required packages"
   ]
  },
  {
   "cell_type": "code",
   "execution_count": 6,
   "metadata": {},
   "outputs": [
    {
     "name": "stderr",
     "output_type": "stream",
     "text": [
      "Using TensorFlow backend.\n"
     ]
    }
   ],
   "source": [
    "import os\n",
    "import numpy as np\n",
    "import pandas as pd\n",
    "import matplotlib.pyplot as plt\n",
    "from keras.models import Sequential,Model\n",
    "from keras.layers import Dense, Input, Flatten, Dropout, Lambda,GlobalMaxPooling1D,LSTM\n",
    "from keras.layers import Conv2D,Conv1D\n",
    "from keras.layers import Recurrent\n",
    "from keras.layers import embeddings\n",
    "import nltk\n",
    "#nltk.download()\n",
    "from nltk.corpus import stopwords\n",
    "from nltk.stem.wordnet import WordNetLemmatizer \n",
    "from nltk.stem.porter import PorterStemmer \n",
    "from __future__ import print_function\n",
    "import sys\n",
    "from keras.preprocessing.text import Tokenizer\n",
    "from keras.preprocessing.sequence import pad_sequences\n",
    "from keras.utils import to_categorical\n",
    "from keras.layers import Embedding\n",
    "import tensorflow as tf\n",
    "from sklearn import preprocessing\n",
    "from sklearn import metrics\n",
    "from sklearn.metrics import precision_recall_fscore_support as score\n",
    "from sklearn.metrics import confusion_matrix,classification_report"
   ]
  },
  {
   "cell_type": "markdown",
   "metadata": {},
   "source": [
    "#### Set the working directory"
   ]
  },
  {
   "cell_type": "code",
   "execution_count": 7,
   "metadata": {
    "collapsed": true
   },
   "outputs": [],
   "source": [
    "BASE_DIR = \"C:/insofe/Cute_4/cse7321c-cute04-cute4/cse7321c-cute04-cute4/20171008_Batch30_CSE7321c_CuTe04\"\n",
    "os.chdir(BASE_DIR)\n",
    "GLOVE_DIR = BASE_DIR + '/glove.6B/'\n",
    "dataframe=pd.read_csv('data.csv')\n",
    "MAX_SEQUENCE_LENGTH = 1000\n",
    "MAX_NB_WORDS = 20000\n",
    "EMBEDDING_DIM = 100\n",
    "VALIDATION_SPLIT = 0.2"
   ]
  },
  {
   "cell_type": "markdown",
   "metadata": {},
   "source": [
    "#### Understand the data"
   ]
  },
  {
   "cell_type": "code",
   "execution_count": 8,
   "metadata": {},
   "outputs": [
    {
     "data": {
      "text/plain": [
       "count            57280\n",
       "unique               6\n",
       "top       PRESCRIPTION\n",
       "freq             15096\n",
       "Name: categories, dtype: object"
      ]
     },
     "execution_count": 8,
     "metadata": {},
     "output_type": "execute_result"
    }
   ],
   "source": [
    "dataframe.categories.describe()"
   ]
  },
  {
   "cell_type": "code",
   "execution_count": 9,
   "metadata": {},
   "outputs": [
    {
     "data": {
      "text/plain": [
       "count                  57280\n",
       "unique                    21\n",
       "top       MEDICATION RELATED\n",
       "freq                   10599\n",
       "Name: sub_categories, dtype: object"
      ]
     },
     "execution_count": 9,
     "metadata": {},
     "output_type": "execute_result"
    }
   ],
   "source": [
    "dataframe.sub_categories.describe()"
   ]
  },
  {
   "cell_type": "code",
   "execution_count": 10,
   "metadata": {},
   "outputs": [
    {
     "data": {
      "text/plain": [
       "count                                                 57244\n",
       "unique                                                55509\n",
       "top       clinical list changes medfusion secure electro...\n",
       "freq                                                    175\n",
       "Name: converse, dtype: object"
      ]
     },
     "execution_count": 10,
     "metadata": {},
     "output_type": "execute_result"
    }
   ],
   "source": [
    "dataframe.converse.describe()"
   ]
  },
  {
   "cell_type": "code",
   "execution_count": 11,
   "metadata": {},
   "outputs": [
    {
     "data": {
      "text/html": [
       "<div>\n",
       "<style>\n",
       "    .dataframe thead tr:only-child th {\n",
       "        text-align: right;\n",
       "    }\n",
       "\n",
       "    .dataframe thead th {\n",
       "        text-align: left;\n",
       "    }\n",
       "\n",
       "    .dataframe tbody tr th {\n",
       "        vertical-align: top;\n",
       "    }\n",
       "</style>\n",
       "<table border=\"1\" class=\"dataframe\">\n",
       "  <thead>\n",
       "    <tr style=\"text-align: right;\">\n",
       "      <th></th>\n",
       "      <th>fileid</th>\n",
       "      <th>sub_categories</th>\n",
       "      <th>categories</th>\n",
       "      <th>converse</th>\n",
       "    </tr>\n",
       "  </thead>\n",
       "  <tbody>\n",
       "    <tr>\n",
       "      <th>0</th>\n",
       "      <td>0</td>\n",
       "      <td>REFILL</td>\n",
       "      <td>PRESCRIPTION</td>\n",
       "      <td>patients aware that he needs rov for refill na...</td>\n",
       "    </tr>\n",
       "    <tr>\n",
       "      <th>1</th>\n",
       "      <td>1</td>\n",
       "      <td>MEDICATION RELATED</td>\n",
       "      <td>ASK_A_DOCTOR</td>\n",
       "      <td>mom wants to know if the drugname needs some d...</td>\n",
       "    </tr>\n",
       "    <tr>\n",
       "      <th>2</th>\n",
       "      <td>2</td>\n",
       "      <td>MEDICATION RELATED</td>\n",
       "      <td>ASK_A_DOCTOR</td>\n",
       "      <td>patients to discuss drugname she says she has ...</td>\n",
       "    </tr>\n",
       "    <tr>\n",
       "      <th>3</th>\n",
       "      <td>3</td>\n",
       "      <td>OTHERS</td>\n",
       "      <td>MISCELLANEOUS</td>\n",
       "      <td>fyi nortryptline medication patient prescripti...</td>\n",
       "    </tr>\n",
       "    <tr>\n",
       "      <th>4</th>\n",
       "      <td>4</td>\n",
       "      <td>SHARING OF HEALTH RECORDS (FAX, E-MAIL, ETC.)</td>\n",
       "      <td>MISCELLANEOUS</td>\n",
       "      <td>letter of patient establishment request name s...</td>\n",
       "    </tr>\n",
       "  </tbody>\n",
       "</table>\n",
       "</div>"
      ],
      "text/plain": [
       "   fileid                                 sub_categories     categories  \\\n",
       "0       0                                         REFILL   PRESCRIPTION   \n",
       "1       1                             MEDICATION RELATED   ASK_A_DOCTOR   \n",
       "2       2                             MEDICATION RELATED   ASK_A_DOCTOR   \n",
       "3       3                                         OTHERS  MISCELLANEOUS   \n",
       "4       4  SHARING OF HEALTH RECORDS (FAX, E-MAIL, ETC.)  MISCELLANEOUS   \n",
       "\n",
       "                                            converse  \n",
       "0  patients aware that he needs rov for refill na...  \n",
       "1  mom wants to know if the drugname needs some d...  \n",
       "2  patients to discuss drugname she says she has ...  \n",
       "3  fyi nortryptline medication patient prescripti...  \n",
       "4  letter of patient establishment request name s...  "
      ]
     },
     "execution_count": 11,
     "metadata": {},
     "output_type": "execute_result"
    }
   ],
   "source": [
    "dataframe.head()"
   ]
  },
  {
   "cell_type": "code",
   "execution_count": 12,
   "metadata": {},
   "outputs": [
    {
     "data": {
      "text/html": [
       "<div>\n",
       "<style>\n",
       "    .dataframe thead tr:only-child th {\n",
       "        text-align: right;\n",
       "    }\n",
       "\n",
       "    .dataframe thead th {\n",
       "        text-align: left;\n",
       "    }\n",
       "\n",
       "    .dataframe tbody tr th {\n",
       "        vertical-align: top;\n",
       "    }\n",
       "</style>\n",
       "<table border=\"1\" class=\"dataframe\">\n",
       "  <thead>\n",
       "    <tr style=\"text-align: right;\">\n",
       "      <th></th>\n",
       "      <th>fileid</th>\n",
       "      <th>sub_categories</th>\n",
       "      <th>categories</th>\n",
       "      <th>converse</th>\n",
       "    </tr>\n",
       "  </thead>\n",
       "  <tbody>\n",
       "    <tr>\n",
       "      <th>57275</th>\n",
       "      <td>57275</td>\n",
       "      <td>REFILL</td>\n",
       "      <td>PRESCRIPTION</td>\n",
       "      <td>out of medicines rxs name mom prescription ref...</td>\n",
       "    </tr>\n",
       "    <tr>\n",
       "      <th>57276</th>\n",
       "      <td>57276</td>\n",
       "      <td>MEDICATION RELATED</td>\n",
       "      <td>ASK_A_DOCTOR</td>\n",
       "      <td>patients mom to report a migraine name mom tri...</td>\n",
       "    </tr>\n",
       "    <tr>\n",
       "      <th>57277</th>\n",
       "      <td>57277</td>\n",
       "      <td>OTHERS</td>\n",
       "      <td>MISCELLANEOUS</td>\n",
       "      <td>dental clearance rna follow dental office want...</td>\n",
       "    </tr>\n",
       "    <tr>\n",
       "      <th>57278</th>\n",
       "      <td>57278</td>\n",
       "      <td>SHARING OF HEALTH RECORDS (FAX, E-MAIL, ETC.)</td>\n",
       "      <td>MISCELLANEOUS</td>\n",
       "      <td>catheter documentation from other clinic name ...</td>\n",
       "    </tr>\n",
       "    <tr>\n",
       "      <th>57279</th>\n",
       "      <td>57279</td>\n",
       "      <td>OTHERS</td>\n",
       "      <td>MISCELLANEOUS</td>\n",
       "      <td>status of fmla form awaiting md completion nam...</td>\n",
       "    </tr>\n",
       "  </tbody>\n",
       "</table>\n",
       "</div>"
      ],
      "text/plain": [
       "       fileid                                 sub_categories     categories  \\\n",
       "57275   57275                                         REFILL   PRESCRIPTION   \n",
       "57276   57276                             MEDICATION RELATED   ASK_A_DOCTOR   \n",
       "57277   57277                                         OTHERS  MISCELLANEOUS   \n",
       "57278   57278  SHARING OF HEALTH RECORDS (FAX, E-MAIL, ETC.)  MISCELLANEOUS   \n",
       "57279   57279                                         OTHERS  MISCELLANEOUS   \n",
       "\n",
       "                                                converse  \n",
       "57275  out of medicines rxs name mom prescription ref...  \n",
       "57276  patients mom to report a migraine name mom tri...  \n",
       "57277  dental clearance rna follow dental office want...  \n",
       "57278  catheter documentation from other clinic name ...  \n",
       "57279  status of fmla form awaiting md completion nam...  "
      ]
     },
     "execution_count": 12,
     "metadata": {},
     "output_type": "execute_result"
    }
   ],
   "source": [
    "dataframe.tail()"
   ]
  },
  {
   "cell_type": "code",
   "execution_count": 13,
   "metadata": {},
   "outputs": [
    {
     "name": "stdout",
     "output_type": "stream",
     "text": [
      "Total no of rows having NAN's are 36\n",
      "fileid            False\n",
      "sub_categories    False\n",
      "categories        False\n",
      "converse           True\n",
      "dtype: bool\n",
      "       fileid sub_categories     categories converse\n",
      "681       681         OTHERS  MISCELLANEOUS      NaN\n",
      "2748     2748         OTHERS  MISCELLANEOUS      NaN\n",
      "6687     6687           JUNK           JUNK      NaN\n",
      "12085   12085           JUNK           JUNK      NaN\n",
      "12693   12693   CANCELLATION   APPOINTMENTS      NaN\n",
      "14193   14193   RESCHEDULING   APPOINTMENTS      NaN\n",
      "15923   15923           JUNK           JUNK      NaN\n",
      "15995   15995         OTHERS  MISCELLANEOUS      NaN\n",
      "17638   17638           JUNK           JUNK      NaN\n",
      "17720   17720           JUNK           JUNK      NaN\n",
      "18172   18172         OTHERS  MISCELLANEOUS      NaN\n",
      "18431   18431           JUNK           JUNK      NaN\n",
      "19829   19829         OTHERS  MISCELLANEOUS      NaN\n",
      "19851   19851         OTHERS  MISCELLANEOUS      NaN\n",
      "22292   22292         OTHERS  MISCELLANEOUS      NaN\n",
      "24491   24491           JUNK           JUNK      NaN\n",
      "25886   25886           JUNK           JUNK      NaN\n",
      "25990   25990         OTHERS  MISCELLANEOUS      NaN\n",
      "26891   26891         OTHERS  MISCELLANEOUS      NaN\n",
      "28730   28730           JUNK           JUNK      NaN\n",
      "28816   28816           JUNK           JUNK      NaN\n",
      "30197   30197         OTHERS  MISCELLANEOUS      NaN\n",
      "30511   30511         OTHERS  MISCELLANEOUS      NaN\n",
      "31274   31274           JUNK           JUNK      NaN\n",
      "33761   33761         OTHERS  MISCELLANEOUS      NaN\n",
      "34726   34726         OTHERS  MISCELLANEOUS      NaN\n",
      "35139   35139         OTHERS  MISCELLANEOUS      NaN\n",
      "36965   36965         OTHERS  MISCELLANEOUS      NaN\n",
      "37809   37809         OTHERS  MISCELLANEOUS      NaN\n",
      "38327   38327         OTHERS  MISCELLANEOUS      NaN\n",
      "44340   44340         OTHERS  MISCELLANEOUS      NaN\n",
      "47056   47056         OTHERS  MISCELLANEOUS      NaN\n",
      "47536   47536         OTHERS  MISCELLANEOUS      NaN\n",
      "48369   48369         OTHERS  MISCELLANEOUS      NaN\n",
      "49785   49785         OTHERS  MISCELLANEOUS      NaN\n",
      "51404   51404         OTHERS  MISCELLANEOUS      NaN\n"
     ]
    }
   ],
   "source": [
    "# Check for NAN's\n",
    "print(\"Total no of rows having NAN's are %d\" % (dataframe[\"converse\"].isnull().sum(axis=0)))\n",
    "print(dataframe.isnull().any())\n",
    "nan_rows = dataframe[dataframe.isnull().T.any().T]\n",
    "print((nan_rows))\n"
   ]
  },
  {
   "cell_type": "code",
   "execution_count": 14,
   "metadata": {},
   "outputs": [
    {
     "name": "stdout",
     "output_type": "stream",
     "text": [
      "['PRESCRIPTION' 'ASK_A_DOCTOR' 'MISCELLANEOUS' 'APPOINTMENTS' 'LAB' 'JUNK']\n",
      "['REFILL' 'MEDICATION RELATED' 'OTHERS'\n",
      " 'SHARING OF HEALTH RECORDS (FAX, E-MAIL, ETC.)'\n",
      " 'QUERY ON CURRENT APPOINTMENT' 'SYMPTOMS' 'RESCHEDULING' 'NEW APPOINTMENT'\n",
      " 'PROVIDER' 'SHARING OF LAB RECORDS (FAX, E-MAIL, ETC.)'\n",
      " 'QUERIES FROM PHARMACY' 'PRIOR AUTHORIZATION' 'LAB RESULTS' 'CANCELLATION'\n",
      " 'CHANGE OF PROVIDER' 'RUNNING LATE TO APPOINTMENT'\n",
      " 'QUERIES FROM INSURANCE FIRM' 'CHANGE OF HOSPITAL'\n",
      " 'FOLLOW UP ON PREVIOUS REQUEST' 'CHANGE OF PHARMACY' 'JUNK']\n"
     ]
    },
    {
     "data": {
      "image/png": "[encoded data removed]",
      "text/plain": [
       "<matplotlib.figure.Figure at 0x229870aa8d0>"
      ]
     },
     "metadata": {},
     "output_type": "display_data"
    },
    {
     "data": {
      "image/png": "[encoded data removed]",
      "text/plain": [
       "<matplotlib.figure.Figure at 0x22987105780>"
      ]
     },
     "metadata": {},
     "output_type": "display_data"
    }
   ],
   "source": [
    "print(dataframe.categories.unique())\n",
    "print(dataframe.sub_categories.unique())\n",
    "category_labels = [\"PRESCRIPTION\",\"ASK_A_DOCTOR\",\"MISCELLANEOUS\",\"APPOINTMENTS\",\"LAB\",\"JUNK\"]\n",
    "sub_category_labels=[\"REFILL\",\"MEDICATION RELATED\",\"OTHERS\",\"SHARING OF HEALTH RECORDS (FAX, E-MAIL, ETC.)\",\"QUERY ON CURRENT APPOINTMENT\",\"SYMPTOMS\",\"RESCHEDULING\",\"NEW APPOINTMENT\",\"PROVIDER\",\"SHARING OF LAB RECORDS (FAX, E-MAIL, ETC.)\",\"QUERIES FROM PHARMACY\",\"PRIOR AUTHORIZATION\",\"LAB RESULTS\",\"CANCELLATION\",\"CHANGE OF PROVIDER\",\"RUNNING LATE TO APPOINTMENT\",\"QUERIES FROM INSURANCE FIRM\",\"CHANGE OF HOSPITAL\",\"FOLLOW UP ON PREVIOUS REQUEST\",\"CHANGE OF PHARMACY\",\"JUNK\"]\n",
    "\n",
    "#plot for categories\n",
    "count_classes = pd.value_counts(dataframe['categories'], sort = True)\n",
    "count_classes.plot(kind = 'bar', rot=0)\n",
    "plt.title(\"Category Distribution\")\n",
    "plt.xticks(range(6), count_classes.index.tolist(),rotation=90)\n",
    "plt.ylabel(\"Frequency\")\n",
    "plt.xlabel(\"category_labels\");\n",
    "plt.show()\n",
    "\n",
    "#plot for sub-categories\n",
    "count_classes = pd.value_counts(dataframe['sub_categories'], sort = True)\n",
    "count_classes.plot(kind = 'bar', rot=0)\n",
    "plt.title(\"Sub-Category Distribution\")\n",
    "plt.xticks(range(20), count_classes.index.tolist(),rotation=90)\n",
    "plt.ylabel(\"Frequency\")\n",
    "plt.xlabel(\"sub_categories_labels\");\n",
    "plt.show()"
   ]
  },
  {
   "cell_type": "markdown",
   "metadata": {},
   "source": [
    "#### Data Pre-processing"
   ]
  },
  {
   "cell_type": "code",
   "execution_count": 15,
   "metadata": {},
   "outputs": [
    {
     "name": "stdout",
     "output_type": "stream",
     "text": [
      "fileid            0\n",
      "sub_categories    0\n",
      "categories        0\n",
      "converse          0\n",
      "dtype: int64\n"
     ]
    }
   ],
   "source": [
    "#Remove rows having NAN's\n",
    "dataframe.dropna(how='any',inplace=True)\n",
    "nan_rows = dataframe[dataframe.isnull().T.any().T]\n",
    "print(dataframe.isnull().sum(axis=0))"
   ]
  },
  {
   "cell_type": "code",
   "execution_count": 16,
   "metadata": {},
   "outputs": [
    {
     "name": "stdout",
     "output_type": "stream",
     "text": [
      "['i', 'me', 'my', 'myself', 'we', 'our', 'ours', 'ourselves', 'you', 'your', 'yours', 'yourself', 'yourselves', 'he', 'him', 'his', 'himself', 'she', 'her', 'hers', 'herself', 'it', 'its', 'itself', 'they', 'them', 'their', 'theirs', 'themselves', 'what', 'which', 'who', 'whom', 'this', 'that', 'these', 'those', 'am', 'is', 'are', 'was', 'were', 'be', 'been', 'being', 'have', 'has', 'had', 'having', 'do', 'does', 'did', 'doing', 'a', 'an', 'the', 'and', 'but', 'if', 'or', 'because', 'as', 'until', 'while', 'of', 'at', 'by', 'for', 'with', 'about', 'against', 'between', 'into', 'through', 'during', 'before', 'after', 'above', 'below', 'to', 'from', 'up', 'down', 'in', 'out', 'on', 'off', 'over', 'under', 'again', 'further', 'then', 'once', 'here', 'there', 'when', 'where', 'why', 'how', 'all', 'any', 'both', 'each', 'few', 'more', 'most', 'other', 'some', 'such', 'no', 'nor', 'not', 'only', 'own', 'same', 'so', 'than', 'too', 'very', 's', 't', 'can', 'will', 'just', 'don', 'should', 'now', 'd', 'll', 'm', 'o', 're', 've', 'y', 'ain', 'aren', 'couldn', 'didn', 'doesn', 'hadn', 'hasn', 'haven', 'isn', 'ma', 'mightn', 'mustn', 'needn', 'shan', 'shouldn', 'wasn', 'weren', 'won', 'wouldn']\n",
      "4701050\n"
     ]
    }
   ],
   "source": [
    "#remove stopwords\n",
    "df=dataframe[\"converse\"]\n",
    "stop = stopwords.words('english')\n",
    "print(stop)\n",
    "print(len(df.str.cat(sep=' ').split()))\n"
   ]
  },
  {
   "cell_type": "code",
   "execution_count": 17,
   "metadata": {
    "collapsed": true
   },
   "outputs": [],
   "source": [
    "def remove_noise(input_text):\n",
    "    words = input_text.split() \n",
    "    noise_free_words = [word for word in words if word not in stop] \n",
    "    noise_free_text = \" \".join(noise_free_words) \n",
    "    return noise_free_text"
   ]
  },
  {
   "cell_type": "code",
   "execution_count": 18,
   "metadata": {
    "collapsed": true
   },
   "outputs": [],
   "source": [
    "dataframe[\"converse\"] = dataframe[\"converse\"].apply(lambda x: remove_noise(x))"
   ]
  },
  {
   "cell_type": "code",
   "execution_count": 19,
   "metadata": {},
   "outputs": [
    {
     "name": "stdout",
     "output_type": "stream",
     "text": [
      "3139066\n"
     ]
    }
   ],
   "source": [
    "print(len(dataframe[\"converse\"].str.cat(sep=' ').split()))"
   ]
  },
  {
   "cell_type": "code",
   "execution_count": 20,
   "metadata": {
    "collapsed": true
   },
   "outputs": [],
   "source": [
    "#To remove multiple spaces\n",
    "dataframe[\"converse\"] = dataframe[\"converse\"].apply(lambda x: x.strip())\n"
   ]
  },
  {
   "cell_type": "code",
   "execution_count": 21,
   "metadata": {
    "collapsed": true
   },
   "outputs": [],
   "source": [
    "#perform lemmatization and stemming \n",
    "lem = WordNetLemmatizer()\n",
    "porter_stemmer = PorterStemmer()\n",
    "\n",
    "def stemming(input_text):\n",
    "    words = input_text.split() \n",
    "    stem_words = [porter_stemmer.stem(word) for word in words] \n",
    "    stem_free_text = \" \".join(stem_words) \n",
    "    return stem_free_text\n",
    "\n",
    "def lemmatization(input_text):\n",
    "    words = input_text.split() \n",
    "    lemmant_words = [lem(word) for word in words if word not in stop] \n",
    "    lemmant_free_text = \" \".join(lemmant_words) \n",
    "    return lemmant_free_text"
   ]
  },
  {
   "cell_type": "code",
   "execution_count": 22,
   "metadata": {
    "collapsed": true
   },
   "outputs": [],
   "source": [
    "dataframe[\"converse\"] = dataframe[\"converse\"].apply(lambda x: stemming(x) )"
   ]
  },
  {
   "cell_type": "code",
   "execution_count": 23,
   "metadata": {
    "collapsed": true
   },
   "outputs": [],
   "source": [
    "#nf = nf.apply(lambda x: lemmatization(x) )\n",
    "#print(nf)"
   ]
  },
  {
   "cell_type": "markdown",
   "metadata": {},
   "source": [
    "#### Word Embedding"
   ]
  },
  {
   "cell_type": "code",
   "execution_count": 24,
   "metadata": {},
   "outputs": [
    {
     "name": "stdout",
     "output_type": "stream",
     "text": [
      "Indexing word vectors.\n",
      "Found 400000 word vectors.\n",
      "Processing text dataset\n"
     ]
    }
   ],
   "source": [
    "# to their embedding vector\n",
    "\n",
    "print('Indexing word vectors.')\n",
    "\n",
    "embeddings_index = {}\n",
    "f = open(os.path.join(GLOVE_DIR, 'glove.6B.100d.txt'),encoding=\"utf8\")\n",
    "for line in f:\n",
    "    values = line.split()\n",
    "    word = values[0]\n",
    "    coefs = np.asarray(values[1:], dtype='float32')\n",
    "    embeddings_index[word] = coefs\n",
    "f.close()\n",
    "\n",
    "print('Found %s word vectors.' % len(embeddings_index))\n",
    "\n",
    "# second, prepare text samples and their labels\n",
    "print('Processing text dataset')"
   ]
  },
  {
   "cell_type": "code",
   "execution_count": 25,
   "metadata": {},
   "outputs": [
    {
     "name": "stdout",
     "output_type": "stream",
     "text": [
      "Found 31151 unique tokens.\n"
     ]
    }
   ],
   "source": [
    "nf_conv=dataframe[\"converse\"]\n",
    "nf_cat=dataframe[\"categories\"]\n",
    "nf_subcat=dataframe[\"sub_categories\"]\n",
    "\n",
    "# finally, vectorize the text samples into a 2D integer tensor\n",
    "tokenizer = Tokenizer(num_words=MAX_NB_WORDS)\n",
    "tokenizer.fit_on_texts(nf_conv)\n",
    "sequences = tokenizer.texts_to_sequences(nf_conv)\n",
    "\n",
    "word_index = tokenizer.word_index\n",
    "print('Found %s unique tokens.' % len(word_index))\n",
    "\n",
    "data = pad_sequences(sequences, maxlen=MAX_SEQUENCE_LENGTH)\n"
   ]
  },
  {
   "cell_type": "code",
   "execution_count": 26,
   "metadata": {},
   "outputs": [
    {
     "name": "stdout",
     "output_type": "stream",
     "text": [
      "['PRESCRIPTION' 'ASK_A_DOCTOR' 'ASK_A_DOCTOR' ..., 'MISCELLANEOUS'\n",
      " 'MISCELLANEOUS' 'MISCELLANEOUS']\n",
      "['REFILL' 'MEDICATION RELATED' 'MEDICATION RELATED' ..., 'OTHERS'\n",
      " 'SHARING OF HEALTH RECORDS (FAX, E-MAIL, ETC.)' 'OTHERS']\n",
      "[5 1 1 ..., 4 4 4]\n",
      "[15  7  7 ...,  9 18  9]\n",
      "[[ 0.  0.  0.  0.  0.  1.]\n",
      " [ 0.  1.  0.  0.  0.  0.]\n",
      " [ 0.  1.  0.  0.  0.  0.]\n",
      " ..., \n",
      " [ 0.  0.  0.  0.  1.  0.]\n",
      " [ 0.  0.  0.  0.  1.  0.]\n",
      " [ 0.  0.  0.  0.  1.  0.]]\n",
      "[[ 0.  0.  0. ...,  0.  0.  0.]\n",
      " [ 0.  0.  0. ...,  0.  0.  0.]\n",
      " [ 0.  0.  0. ...,  0.  0.  0.]\n",
      " ..., \n",
      " [ 0.  0.  0. ...,  0.  0.  0.]\n",
      " [ 0.  0.  0. ...,  1.  0.  0.]\n",
      " [ 0.  0.  0. ...,  0.  0.  0.]]\n",
      "Shape of data tensor: (57244, 1000)\n",
      "Shape of label tensor: (57244, 6)\n",
      "Shape of label tensor: (57244, 21)\n"
     ]
    }
   ],
   "source": [
    "# One hot encoding of labels\n",
    "labels_cat=nf_cat.values\n",
    "labels_subcat=nf_subcat.values\n",
    "print(labels_cat)\n",
    "print(labels_subcat)\n",
    "\n",
    "le = preprocessing.LabelEncoder()\n",
    "le.fit(labels_cat)\n",
    "lab_cat=le.transform(labels_cat)\n",
    "print(lab_cat)\n",
    "\n",
    "le = preprocessing.LabelEncoder()\n",
    "le.fit(labels_subcat)\n",
    "lab_subcat=le.transform(labels_subcat)\n",
    "print(lab_subcat)\n",
    "\n",
    "labels_categorical = to_categorical(np.asarray(lab_cat))\n",
    "labels_subcategorical = to_categorical(np.asarray(lab_subcat))\n",
    "\n",
    "print(labels_categorical)\n",
    "print(labels_subcategorical)\n",
    "\n",
    "print('Shape of data tensor:', data.shape)\n",
    "print('Shape of label tensor:', labels_categorical.shape)\n",
    "print('Shape of label tensor:', labels_subcategorical.shape)"
   ]
  },
  {
   "cell_type": "code",
   "execution_count": 27,
   "metadata": {},
   "outputs": [
    {
     "name": "stdout",
     "output_type": "stream",
     "text": [
      "{'JUNK': 5, 'CHANGE OF HOSPITAL': 1, 'FOLLOW UP ON PREVIOUS REQUEST': 4, 'CANCELLATION': 0, 'CHANGE OF PROVIDER': 3, 'CHANGE OF PHARMACY': 2}\n",
      "{'REFILL': 15, 'MEDICATION RELATED': 7, 'OTHERS': 9, 'SHARING OF HEALTH RECORDS (FAX, E-MAIL, ETC.)': 18, 'QUERY ON CURRENT APPOINTMENT': 14, 'SYMPTOMS': 20, 'RESCHEDULING': 16, 'NEW APPOINTMENT': 8, 'PROVIDER': 11, 'SHARING OF LAB RECORDS (FAX, E-MAIL, ETC.)': 19, 'QUERIES FROM PHARMACY': 13, 'PRIOR AUTHORIZATION': 10, 'LAB RESULTS': 6, 'CANCELLATION': 0, 'CHANGE OF PROVIDER': 3, 'RUNNING LATE TO APPOINTMENT': 17, 'QUERIES FROM INSURANCE FIRM': 12, 'CHANGE OF HOSPITAL': 1, 'FOLLOW UP ON PREVIOUS REQUEST': 4, 'CHANGE OF PHARMACY': 2, 'JUNK': 5}\n"
     ]
    }
   ],
   "source": [
    "lab_cat_text=list(le.inverse_transform(lab_cat))\n",
    "lab_subcat_text=list(le.inverse_transform(lab_subcat))\n",
    "\n",
    "labels_cat_index = {}  # dictionary mapping label name to numeric id\n",
    "i=0\n",
    "for name in (lab_cat_text):\n",
    "    labels_cat_index[name] = lab_cat[i]\n",
    "    i=i+1\n",
    "print(labels_cat_index)\n",
    "\n",
    "labels_sub_cat_index = {}  # dictionary mapping label name to numeric id\n",
    "j=0\n",
    "for name in (lab_subcat_text):\n",
    "    labels_sub_cat_index[name] = lab_subcat[j]\n",
    "    j=j+1\n",
    "print(labels_sub_cat_index)"
   ]
  },
  {
   "cell_type": "code",
   "execution_count": 28,
   "metadata": {},
   "outputs": [
    {
     "name": "stdout",
     "output_type": "stream",
     "text": [
      "Preparing embedding matrix.\n"
     ]
    }
   ],
   "source": [
    "# split the data into a training set and a validation set\n",
    "indices = np.arange(data.shape[0])\n",
    "np.random.shuffle(indices)\n",
    "data = data[indices]\n",
    "labels_categorical = labels_categorical[indices]\n",
    "labels_subcategorical = labels_subcategorical[indices]\n",
    "\n",
    "num_validation_samples = int(VALIDATION_SPLIT * data.shape[0])\n",
    "\n",
    "x_train = data[:-num_validation_samples]\n",
    "ycat_train = labels_categorical[:-num_validation_samples]\n",
    "ysubcat_train = labels_subcategorical[:-num_validation_samples]\n",
    "x_val = data[-num_validation_samples:]\n",
    "ycat_val = labels_categorical[-num_validation_samples:]\n",
    "ysubcat_val = labels_subcategorical[-num_validation_samples:]\n",
    "\n",
    "print('Preparing embedding matrix.')"
   ]
  },
  {
   "cell_type": "code",
   "execution_count": 29,
   "metadata": {},
   "outputs": [
    {
     "name": "stdout",
     "output_type": "stream",
     "text": [
      "Training model.\n"
     ]
    }
   ],
   "source": [
    "# prepare embedding matrix\n",
    "num_words = min(MAX_NB_WORDS, len(word_index))\n",
    "embedding_matrix = np.zeros((num_words, EMBEDDING_DIM))\n",
    "for word, i in word_index.items():\n",
    "    if i >= MAX_NB_WORDS:\n",
    "        continue\n",
    "    embedding_vector = embeddings_index.get(word)\n",
    "    if embedding_vector is not None:\n",
    "        # words not found in embedding index will be all-zeros.\n",
    "        embedding_matrix[i] = embedding_vector\n",
    "\n",
    "# load pre-trained word embeddings into an Embedding layer\n",
    "# note that we set trainable = False so as to keep the embeddings fixed\n",
    "print('Training model.')"
   ]
  },
  {
   "cell_type": "code",
   "execution_count": 30,
   "metadata": {},
   "outputs": [
    {
     "name": "stdout",
     "output_type": "stream",
     "text": [
      "(20000, 100)\n"
     ]
    }
   ],
   "source": [
    "print(embedding_matrix.shape)"
   ]
  },
  {
   "cell_type": "markdown",
   "metadata": {},
   "source": [
    "#### Build MLP Model for category"
   ]
  },
  {
   "cell_type": "code",
   "execution_count": 31,
   "metadata": {},
   "outputs": [
    {
     "name": "stdout",
     "output_type": "stream",
     "text": [
      "_________________________________________________________________\n",
      "Layer (type)                 Output Shape              Param #   \n",
      "=================================================================\n",
      "embedding_1 (Embedding)      (None, 1000, 100)         2000000   \n",
      "_________________________________________________________________\n",
      "lambda_1 (Lambda)            (None, 100)               0         \n",
      "_________________________________________________________________\n",
      "dense_1 (Dense)              (None, 50)                5050      \n",
      "_________________________________________________________________\n",
      "dense_2 (Dense)              (None, 6)                 306       \n",
      "=================================================================\n",
      "Total params: 2,005,356\n",
      "Trainable params: 2,005,356\n",
      "Non-trainable params: 0\n",
      "_________________________________________________________________\n"
     ]
    }
   ],
   "source": [
    "MLPmodelcat = Sequential()\n",
    "MLPmodelcat.add(Embedding(num_words,\n",
    "                    EMBEDDING_DIM,\n",
    "                    input_length=MAX_SEQUENCE_LENGTH,\n",
    "                    weights=[embedding_matrix],\n",
    "                    # trainable=False\n",
    "                    ))\n",
    "MLPmodelcat.add(Lambda(lambda x: tf.reduce_mean(x, axis=1)))\n",
    "MLPmodelcat.add(Dense(50, activation = 'relu'))\n",
    "MLPmodelcat.add(Dense(len(labels_cat_index), activation='softmax'))\n",
    "MLPmodelcat.summary()"
   ]
  },
  {
   "cell_type": "code",
   "execution_count": 32,
   "metadata": {
    "collapsed": true
   },
   "outputs": [],
   "source": [
    "from keras import callbacks\n",
    "reduce_lr = callbacks.ReduceLROnPlateau(monitor='val_loss', factor=0.2,\n",
    "              patience=5, min_lr=0.00001, verbose=1, epsilon=0.001)\n",
    "early_stop = callbacks.EarlyStopping(monitor='val_loss', min_delta=0, patience=7, verbose=1, mode='auto')\n",
    "MLPmodelcat.compile(loss='categorical_crossentropy',\n",
    "              optimizer='rmsprop',\n",
    "              metrics=['acc'])"
   ]
  },
  {
   "cell_type": "code",
   "execution_count": 34,
   "metadata": {},
   "outputs": [],
   "source": [
    "MLPmodelcat.fit(x_train, ycat_train,\n",
    "          batch_size=64,\n",
    "          epochs=20,\n",
    "          validation_data=(x_val, ycat_val),\n",
    "         callbacks=[reduce_lr, early_stop])"
   ]
  },
  {
   "cell_type": "markdown",
   "metadata": {},
   "source": [
    "#### MLP model for subcategory"
   ]
  },
  {
   "cell_type": "code",
   "execution_count": null,
   "metadata": {},
   "outputs": [],
   "source": [
    "MLPmodelsubcat = Sequential()\n",
    "MLPmodelsubcat.add(Embedding(num_words,\n",
    "                    EMBEDDING_DIM,\n",
    "                    input_length=MAX_SEQUENCE_LENGTH,\n",
    "                    weights=[embedding_matrix],\n",
    "                    # trainable=False\n",
    "                    ))\n",
    "MLPmodelsubcat.add(Lambda(lambda x: tf.reduce_mean(x, axis=1)))\n",
    "MLPmodelsubcat.add(Dense(5, activation = 'relu'))\n",
    "MLPmodelsubcat.add(Dense(len(labels_sub_cat_index), activation='softmax'))\n",
    "MLPmodelsubcat.summary()"
   ]
  },
  {
   "cell_type": "code",
   "execution_count": null,
   "metadata": {
    "collapsed": true
   },
   "outputs": [],
   "source": [
    "from keras import callbacks\n",
    "reduce_lr = callbacks.ReduceLROnPlateau(monitor='val_loss', factor=0.2,\n",
    "              patience=5, min_lr=0.00001, verbose=1, epsilon=0.001)\n",
    "early_stop = callbacks.EarlyStopping(monitor='val_loss', min_delta=0, patience=7, verbose=1, mode='auto')\n",
    "MLPmodelsubcat.compile(loss='categorical_crossentropy',\n",
    "              optimizer='rmsprop',\n",
    "              metrics=['acc'])"
   ]
  },
  {
   "cell_type": "code",
   "execution_count": null,
   "metadata": {
    "collapsed": true
   },
   "outputs": [],
   "source": [
    "MLPmodelsubcat.fit(x_train, ysubcat_train,\n",
    "         batch_size=64,\n",
    "         epochs=20,\n",
    "         validation_data=(x_val, ysubcat_val),\n",
    "         callbacks=[reduce_lr, early_stop])"
   ]
  },
  {
   "cell_type": "code",
   "execution_count": null,
   "metadata": {},
   "outputs": [],
   "source": [
    "score = MLPmodelcat.evaluate(x_val, ycat_val,verbose=1)\n",
    "print(score)\n",
    "score = MLPmodelsubcat.evaluate(x_val, ysubcat_val,verbose=1)\n",
    "print(score)"
   ]
  },
  {
   "cell_type": "code",
   "execution_count": null,
   "metadata": {},
   "outputs": [],
   "source": [
    "predict_cat=MLPmodelcat.predict_classes(x_val, verbose=1)\n",
    "predict_subcat=MLPmodelsubcat.predict_classes(x_val, verbose=1)"
   ]
  },
  {
   "cell_type": "code",
   "execution_count": null,
   "metadata": {},
   "outputs": [],
   "source": [
    "def recall(y_true, y_pred):\n",
    "    i = set(y_true).intersection(y_pred)\n",
    "    return len(i) / len(y_true)\n",
    "\n",
    "ycattest=np.argmax(ycat_val,axis=1)\n",
    "ysubcattest=np.argmax(ysubcat_val,axis=1)\n",
    "\n",
    "#ycattest = np.asarray(list(map(lambda x: np.argmax(x), ycat_val)))\n",
    "print(recall(ycattest,predict_cat))\n",
    "\n",
    "#ysubcattest = np.asarray(list(map(lambda x: np.argmax(x), ysubcat_val)))\n",
    "print(recall(ysubcattest,predict_subcat))\n",
    "\n",
    "print(confusion_matrix(predict_cat,ycattest))\n",
    "print(confusion_matrix(predict_subcat,ysubcattest))"
   ]
  },
  {
   "cell_type": "markdown",
   "metadata": {},
   "source": [
    "#### Build CNN Model for Category"
   ]
  },
  {
   "cell_type": "code",
   "execution_count": 35,
   "metadata": {},
   "outputs": [
    {
     "name": "stdout",
     "output_type": "stream",
     "text": [
      "_________________________________________________________________\n",
      "Layer (type)                 Output Shape              Param #   \n",
      "=================================================================\n",
      "embedding_2 (Embedding)      (None, 1000, 100)         2000000   \n",
      "_________________________________________________________________\n",
      "dropout_1 (Dropout)          (None, 1000, 100)         0         \n",
      "_________________________________________________________________\n",
      "conv1d_1 (Conv1D)            (None, 998, 25)           7525      \n",
      "_________________________________________________________________\n",
      "global_max_pooling1d_1 (Glob (None, 25)                0         \n",
      "_________________________________________________________________\n",
      "dense_3 (Dense)              (None, 250)               6500      \n",
      "_________________________________________________________________\n",
      "dropout_2 (Dropout)          (None, 250)               0         \n",
      "_________________________________________________________________\n",
      "dense_4 (Dense)              (None, 6)                 1506      \n",
      "=================================================================\n",
      "Total params: 2,015,531\n",
      "Trainable params: 2,015,531\n",
      "Non-trainable params: 0\n",
      "_________________________________________________________________\n"
     ]
    }
   ],
   "source": [
    "CNNmodelcat = Sequential()\n",
    "CNNmodelcat.add(Embedding(num_words,\n",
    "                    EMBEDDING_DIM,\n",
    "                    input_length=MAX_SEQUENCE_LENGTH,\n",
    "                    weights=[embedding_matrix],\n",
    "                    # trainable=False\n",
    "                    ))\n",
    "CNNmodelcat.add(Dropout(0.2))\n",
    "CNNmodelcat.add(Conv1D(25,3,padding='valid',activation='relu',strides=1))\n",
    "CNNmodelcat.add(GlobalMaxPooling1D())\n",
    "CNNmodelcat.add(Dense(250, activation = 'relu'))\n",
    "CNNmodelcat.add(Dropout(0.2))                \n",
    "CNNmodelcat.add(Dense(len(labels_cat_index), activation='softmax'))\n",
    "CNNmodelcat.summary() \n"
   ]
  },
  {
   "cell_type": "code",
   "execution_count": null,
   "metadata": {
    "collapsed": true
   },
   "outputs": [],
   "source": [
    "from keras import callbacks\n",
    "reduce_lr = callbacks.ReduceLROnPlateau(monitor='val_loss', factor=0.2,\n",
    "              patience=5, min_lr=0.00001, verbose=1, epsilon=0.001)\n",
    "early_stop = callbacks.EarlyStopping(monitor='val_loss', min_delta=0, patience=7, verbose=1, mode='auto')\n",
    "CNNmodelcat.compile(loss='categorical_crossentropy',\n",
    "              optimizer='rmsprop',\n",
    "              metrics=['acc'])"
   ]
  },
  {
   "cell_type": "code",
   "execution_count": null,
   "metadata": {},
   "outputs": [],
   "source": [
    "CNNmodelcat.fit(x_train, ycat_train,\n",
    "          batch_size=64,\n",
    "          epochs=20,\n",
    "          validation_data=(x_val, ycat_val),\n",
    "         callbacks=[reduce_lr, early_stop])"
   ]
  },
  {
   "cell_type": "markdown",
   "metadata": {},
   "source": [
    "#### CNN model for subcategory"
   ]
  },
  {
   "cell_type": "code",
   "execution_count": 36,
   "metadata": {},
   "outputs": [
    {
     "name": "stdout",
     "output_type": "stream",
     "text": [
      "_________________________________________________________________\n",
      "Layer (type)                 Output Shape              Param #   \n",
      "=================================================================\n",
      "embedding_3 (Embedding)      (None, 1000, 100)         2000000   \n",
      "_________________________________________________________________\n",
      "dropout_3 (Dropout)          (None, 1000, 100)         0         \n",
      "_________________________________________________________________\n",
      "conv1d_2 (Conv1D)            (None, 998, 25)           7525      \n",
      "_________________________________________________________________\n",
      "global_max_pooling1d_2 (Glob (None, 25)                0         \n",
      "_________________________________________________________________\n",
      "dense_5 (Dense)              (None, 250)               6500      \n",
      "_________________________________________________________________\n",
      "dropout_4 (Dropout)          (None, 250)               0         \n",
      "_________________________________________________________________\n",
      "dense_6 (Dense)              (None, 21)                5271      \n",
      "=================================================================\n",
      "Total params: 2,019,296\n",
      "Trainable params: 2,019,296\n",
      "Non-trainable params: 0\n",
      "_________________________________________________________________\n"
     ]
    }
   ],
   "source": [
    "CNNmodelsubcat = Sequential()\n",
    "CNNmodelsubcat.add(Embedding(num_words,\n",
    "                    EMBEDDING_DIM,\n",
    "                    input_length=MAX_SEQUENCE_LENGTH,\n",
    "                    weights=[embedding_matrix],\n",
    "                    # trainable=False\n",
    "                    ))\n",
    "CNNmodelsubcat.add(Dropout(0.2))\n",
    "CNNmodelsubcat.add(Conv1D(25,3,padding='valid',activation='relu',strides=1))\n",
    "CNNmodelsubcat.add(GlobalMaxPooling1D())\n",
    "CNNmodelsubcat.add(Dense(250, activation = 'relu'))\n",
    "CNNmodelsubcat.add(Dropout(0.2))                \n",
    "CNNmodelsubcat.add(Dense(len(labels_sub_cat_index), activation='softmax'))\n",
    "CNNmodelsubcat.summary() "
   ]
  },
  {
   "cell_type": "code",
   "execution_count": null,
   "metadata": {
    "collapsed": true
   },
   "outputs": [],
   "source": [
    "from keras import callbacks\n",
    "reduce_lr = callbacks.ReduceLROnPlateau(monitor='val_loss', factor=0.2,\n",
    "              patience=5, min_lr=0.00001, verbose=1, epsilon=0.001)\n",
    "early_stop = callbacks.EarlyStopping(monitor='val_loss', min_delta=0, patience=7, verbose=1, mode='auto')\n",
    "CNNmodelsubcat.compile(loss='categorical_crossentropy',\n",
    "              optimizer='rmsprop',\n",
    "              metrics=['acc'])"
   ]
  },
  {
   "cell_type": "code",
   "execution_count": null,
   "metadata": {},
   "outputs": [],
   "source": [
    "CNNmodelsubcat.fit(x_train, ysubcat_train,\n",
    "          batch_size=64,\n",
    "          epochs=20,\n",
    "          validation_data=(x_val, ysubcat_val),\n",
    "          callbacks=[reduce_lr, early_stop])"
   ]
  },
  {
   "cell_type": "code",
   "execution_count": null,
   "metadata": {},
   "outputs": [],
   "source": [
    "score = CNNmodelcat.evaluate(x_val, ycat_val,verbose=0)\n",
    "print(score)\n",
    "score = CNNmodelsubcat.evaluate(x_val, ysubcat_val,verbose=0)\n",
    "print(score)"
   ]
  },
  {
   "cell_type": "code",
   "execution_count": null,
   "metadata": {
    "collapsed": true
   },
   "outputs": [],
   "source": [
    "predict_cat=CNNmodelcat.predict_classes(x_val, verbose=0)\n",
    "predict_subcat=CNNmodelsubcat.predict_classes(x_val, verbose=0)"
   ]
  },
  {
   "cell_type": "code",
   "execution_count": null,
   "metadata": {},
   "outputs": [],
   "source": [
    "def recall(y_true, y_pred):\n",
    "    i = set(y_true).intersection(y_pred)\n",
    "    return len(i) / len(y_true)\n",
    "print(recall(ycattest,predict_cat))\n",
    "print(recall(ysubcattest,predict_subcat))\n",
    "\n",
    "#print(confusion_matrix(ycattest,predict_cat))\n",
    "#print(confusion_matrix(ysubcattest,predict_subcat))\n"
   ]
  },
  {
   "cell_type": "markdown",
   "metadata": {
    "collapsed": true
   },
   "source": [
    "#### Build RNN Model for Category"
   ]
  },
  {
   "cell_type": "code",
   "execution_count": 37,
   "metadata": {},
   "outputs": [
    {
     "name": "stdout",
     "output_type": "stream",
     "text": [
      "_________________________________________________________________\n",
      "Layer (type)                 Output Shape              Param #   \n",
      "=================================================================\n",
      "embedding_4 (Embedding)      (None, 1000, 100)         2000000   \n",
      "_________________________________________________________________\n",
      "lstm_1 (LSTM)                (None, 2)                 824       \n",
      "_________________________________________________________________\n",
      "dense_7 (Dense)              (None, 6)                 18        \n",
      "=================================================================\n",
      "Total params: 2,000,842\n",
      "Trainable params: 2,000,842\n",
      "Non-trainable params: 0\n",
      "_________________________________________________________________\n"
     ]
    }
   ],
   "source": [
    "RNNmodelcat = Sequential()\n",
    "RNNmodelcat.add(Embedding(num_words,\n",
    "                    EMBEDDING_DIM,\n",
    "                    input_length=MAX_SEQUENCE_LENGTH,\n",
    "                    weights=[embedding_matrix],\n",
    "                    # trainable=False\n",
    "                    ))\n",
    "#RNNmodelcat.add(LSTM(250, input_shape=(MAX_SEQUENCE_LENGTH, embedding_matrix.shape[1](or may be output label dimension)),return_sequences=False))\n",
    "RNNmodelcat.add(LSTM(2))\n",
    "RNNmodelcat.add(Dense(len(labels_cat_index), activation='softmax'))\n",
    "RNNmodelcat.summary()"
   ]
  },
  {
   "cell_type": "code",
   "execution_count": null,
   "metadata": {
    "collapsed": true
   },
   "outputs": [],
   "source": [
    "from keras import callbacks\n",
    "reduce_lr = callbacks.ReduceLROnPlateau(monitor='val_loss', factor=0.2,\n",
    "              patience=5, min_lr=0.00001, verbose=1, epsilon=0.001)\n",
    "early_stop = callbacks.EarlyStopping(monitor='val_loss', min_delta=0, patience=7, verbose=1, mode='auto')\n",
    "RNNmodelcat.compile(loss='categorical_crossentropy',\n",
    "              optimizer='rmsprop',\n",
    "              metrics=['acc'])"
   ]
  },
  {
   "cell_type": "code",
   "execution_count": null,
   "metadata": {},
   "outputs": [],
   "source": [
    "RNNmodelcat.fit(x_train, ycat_train,\n",
    "          batch_size=64,\n",
    "          epochs=20,\n",
    "          validation_data=(x_val, ycat_val),\n",
    "          callbacks=[reduce_lr, early_stop])"
   ]
  },
  {
   "cell_type": "markdown",
   "metadata": {
    "collapsed": true
   },
   "source": [
    "#### RNN model for subcategory"
   ]
  },
  {
   "cell_type": "code",
   "execution_count": null,
   "metadata": {},
   "outputs": [],
   "source": [
    "RNNmodelsubcat = Sequential()\n",
    "RNNmodelsubcat.add(Embedding(num_words,\n",
    "                    EMBEDDING_DIM,\n",
    "                    input_length=MAX_SEQUENCE_LENGTH,\n",
    "                    weights=[embedding_matrix],\n",
    "                    # trainable=False\n",
    "                    ))\n",
    "#RNNmodelcat.add(LSTM(250, input_shape=(MAX_SEQUENCE_LENGTH, embedding_matrix.shape[1](or may be output label dimension)),return_sequences=False))\n",
    "RNNmodelsubcat.add(LSTM(2))\n",
    "RNNmodelsubcat.add(Dense(len(labels_sub_cat_index), activation='softmax'))\n",
    "RNNmodelsubcat.summary()"
   ]
  },
  {
   "cell_type": "code",
   "execution_count": null,
   "metadata": {
    "collapsed": true
   },
   "outputs": [],
   "source": [
    "from keras import callbacks\n",
    "reduce_lr = callbacks.ReduceLROnPlateau(monitor='val_loss', factor=0.2,\n",
    "              patience=5, min_lr=0.00001, verbose=1, epsilon=0.001)\n",
    "early_stop = callbacks.EarlyStopping(monitor='val_loss', min_delta=0, patience=7, verbose=1, mode='auto')\n",
    "RNNmodelsubcat.compile(loss='categorical_crossentropy',\n",
    "              optimizer='rmsprop',\n",
    "              metrics=['acc'])"
   ]
  },
  {
   "cell_type": "code",
   "execution_count": null,
   "metadata": {},
   "outputs": [],
   "source": [
    "RNNmodelsubcat.fit(x_train, ysubcat_train,\n",
    "          batch_size=64,\n",
    "          epochs=20,\n",
    "          validation_data=(x_val, ysubcat_val),\n",
    "          callbacks=[reduce_lr, early_stop])"
   ]
  },
  {
   "cell_type": "code",
   "execution_count": null,
   "metadata": {
    "collapsed": true
   },
   "outputs": [],
   "source": [
    "score = RNNmodelcat.evaluate(x_val, ycat_val,verbose=1)\n",
    "print(score)\n",
    "score = RNNmodelsubcat.evaluate(x_val, ysubcat_val,verbose=1)\n",
    "print(score)"
   ]
  },
  {
   "cell_type": "code",
   "execution_count": null,
   "metadata": {
    "collapsed": true
   },
   "outputs": [],
   "source": [
    "predict_cat=RNNmodelcat.predict_classes(x_val, verbose=1)\n",
    "predict_subcat=RNNmodelsubcat.predict_classes(x_val, verbose=1)"
   ]
  },
  {
   "cell_type": "code",
   "execution_count": null,
   "metadata": {
    "collapsed": true
   },
   "outputs": [],
   "source": [
    "def recall(y_true, y_pred):\n",
    "    i = set(y_true).intersection(y_pred)\n",
    "    return len(i) / len(y_true)\n",
    "\n",
    "print(recall(ycattest,predict_cat))\n",
    "\n",
    "print(recall(ysubcattest,predict_subcat))\n",
    "print(confusion_matrix(predict_cat,ycattest))\n",
    "print(confusion_matrix(predict_subcat,ysubcattest))"
   ]
  }
 ],
 "metadata": {
  "kernelspec": {
   "display_name": "Python 3",
   "language": "python",
   "name": "python3"
  },
  "language_info": {
   "codemirror_mode": {
    "name": "ipython",
    "version": 3
   },
   "file_extension": ".py",
   "mimetype": "text/x-python",
   "name": "python",
   "nbconvert_exporter": "python",
   "pygments_lexer": "ipython3",
   "version": "3.6.1"
  }
 },
 "nbformat": 4,
 "nbformat_minor": 2
}
